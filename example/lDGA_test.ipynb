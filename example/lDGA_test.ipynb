{
 "cells": [
  {
   "cell_type": "code",
   "execution_count": 1,
   "metadata": {},
   "outputs": [],
   "source": [
    "import numpy as np\n",
    "import lDGA.config as cfg\n",
    "import lDGA.dmft_reader as dmft_reader\n",
    "import lDGA.bse as bse\n",
    "import lDGA.utilities as util\n",
    "import matplotlib.pyplot as plt"
   ]
  },
  {
   "cell_type": "markdown",
   "metadata": {},
   "source": [
    "### load dmft data"
   ]
  },
  {
   "cell_type": "code",
   "execution_count": 2,
   "metadata": {},
   "outputs": [],
   "source": [
    "# example file\n",
    "dmft_file = \"b53_u2_4_2part-2022-11-19-Sat-07-10-47.hdf5\"\n",
    "\n",
    "dga_cfg = cfg.DGA_Config(dmft_file)\n",
    "reader = dmft_reader.DMFT_Reader(dga_cfg)\n",
    "\n",
    "beta = dga_cfg.dmft_dict['beta']\n",
    "mu = dga_cfg.dmft_dict['mu']\n",
    "U = dga_cfg.dmft_dict['U']\n",
    "g = dga_cfg.dmft_dict['giw']\n",
    "s = dga_cfg.dmft_dict['siw']\n",
    "g2 = dga_cfg.dmft_dict['chi_ph']\n",
    "niwf = dga_cfg.niwf\n",
    "n4iwf = dga_cfg.n4iwf\n",
    "n4iwb = dga_cfg.n4iwb\n",
    "kdim = dga_cfg.kdim\n",
    "nk = 96"
   ]
  },
  {
   "cell_type": "markdown",
   "metadata": {},
   "source": [
    "### calculate lattice chi_q"
   ]
  },
  {
   "cell_type": "code",
   "execution_count": 3,
   "metadata": {},
   "outputs": [],
   "source": [
    "chi0_w = bse.chi0_loc_w(beta, g, n4iwf, n4iwb)\n",
    "\n",
    "# kgrid has to be initialized beforehand\n",
    "kpoints = np.linspace(-np.pi,np.pi,96,endpoint=False)\n",
    "k_grid = np.meshgrid(kpoints,kpoints)\n",
    "k_grid = np.array(k_grid).reshape(2,-1).T\n",
    "\n",
    "chi0_q_w = bse.chi0_q_w(beta, mu, s, k_grid, kdim, 96, np.array([[0.,0.]]), niwf, n4iwf, n4iwb)\n",
    "\n",
    "u = U*np.ones([2*n4iwb+1], dtype=np.float64)\n",
    "data = bse.chi_v_r_q_w(beta, u, chi0_w, chi0_q_w, g2, n4iwf, n4iwb, qpoints=np.array([[0.,0.]]), nk=96)"
   ]
  },
  {
   "cell_type": "code",
   "execution_count": 4,
   "metadata": {},
   "outputs": [
    {
     "name": "stderr",
     "output_type": "stream",
     "text": [
      "/Users/eminmoghadas/anaconda3/envs/dga_dev/lib/python3.13/site-packages/matplotlib/cbook.py:1709: ComplexWarning: Casting complex values to real discards the imaginary part\n",
      "  return math.isfinite(val)\n",
      "/Users/eminmoghadas/anaconda3/envs/dga_dev/lib/python3.13/site-packages/matplotlib/cbook.py:1345: ComplexWarning: Casting complex values to real discards the imaginary part\n",
      "  return np.asarray(x, float)\n"
     ]
    },
    {
     "data": {
      "text/plain": [
       "[<matplotlib.lines.Line2D at 0x31130ed50>]"
      ]
     },
     "execution_count": 4,
     "metadata": {},
     "output_type": "execute_result"
    },
    {
     "data": {
      "image/png": "[encoded data removed]",
      "text/plain": [
       "<Figure size 640x480 with 1 Axes>"
      ]
     },
     "metadata": {},
     "output_type": "display_data"
    }
   ],
   "source": [
    "import matplotlib.pyplot as plt\n",
    "\n",
    "chi = data[0]\n",
    "\n",
    "plt.plot(chi, \".-\")\n"
   ]
  },
  {
   "cell_type": "code",
   "execution_count": null,
   "metadata": {},
   "outputs": [],
   "source": []
  }
 ],
 "metadata": {
  "kernelspec": {
   "display_name": "dga_dev",
   "language": "python",
   "name": "python3"
  },
  "language_info": {
   "codemirror_mode": {
    "name": "ipython",
    "version": 3
   },
   "file_extension": ".py",
   "mimetype": "text/x-python",
   "name": "python",
   "nbconvert_exporter": "python",
   "pygments_lexer": "ipython3",
   "version": "3.13.2"
  }
 },
 "nbformat": 4,
 "nbformat_minor": 2
}
